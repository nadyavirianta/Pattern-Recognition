{
 "cells": [
  {
   "cell_type": "code",
   "execution_count": 0,
   "metadata": {
    "colab": {},
    "colab_type": "code",
    "collapsed": true,
    "id": "4E3RPMGs_wuY"
   },
   "outputs": [],
   "source": [
    "import pandas as pd\n",
    "import numpy as np\n",
    "import matplotlib.pyplot as plt\n",
    "import nltk"
   ]
  },
  {
   "cell_type": "code",
   "execution_count": 2,
   "metadata": {
    "colab": {
     "base_uri": "https://localhost:8080/",
     "height": 142
    },
    "colab_type": "code",
    "collapsed": false,
    "id": "j3V4Ng2JBBbH",
    "outputId": "659503eb-5912-4e5e-a073-40d24aca1796"
   },
   "outputs": [
    {
     "name": "stdout",
     "output_type": "stream",
     "text": [
      "Go to this URL in a browser: https://accounts.google.com/o/oauth2/auth?client_id=947318989803-6bn6qk8qdgf4n4g3pfee6491hc0brc4i.apps.googleusercontent.com&redirect_uri=urn%3Aietf%3Awg%3Aoauth%3A2.0%3Aoob&scope=email%20https%3A%2F%2Fwww.googleapis.com%2Fauth%2Fdocs.test%20https%3A%2F%2Fwww.googleapis.com%2Fauth%2Fdrive%20https%3A%2F%2Fwww.googleapis.com%2Fauth%2Fdrive.photos.readonly%20https%3A%2F%2Fwww.googleapis.com%2Fauth%2Fpeopleapi.readonly&response_type=code\n",
      "\n",
      "Enter your authorization code:\n",
      "··········\n",
      "Mounted at /gdrive\n",
      "/gdrive\n"
     ]
    }
   ],
   "source": [
    "from google.colab import drive\n",
    "drive.mount('/gdrive')\n",
    "%cd /gdrive"
   ]
  },
  {
   "cell_type": "code",
   "execution_count": 0,
   "metadata": {
    "colab": {},
    "colab_type": "code",
    "collapsed": true,
    "id": "LnBm1R3cETHP"
   },
   "outputs": [],
   "source": [
    "base_path = \"/gdrive/My Drive/CS/Pengpol/\""
   ]
  },
  {
   "cell_type": "code",
   "execution_count": 0,
   "metadata": {
    "colab": {},
    "colab_type": "code",
    "collapsed": true,
    "id": "y89hsyr9FT0E"
   },
   "outputs": [],
   "source": [
    "np.random.seed(2018)"
   ]
  },
  {
   "cell_type": "code",
   "execution_count": 0,
   "metadata": {
    "colab": {},
    "colab_type": "code",
    "collapsed": true,
    "id": "dRkCj4xEHEU-"
   },
   "outputs": [],
   "source": [
    "from sklearn import preprocessing\n",
    "#load training data\n",
    "dftraining = pd.read_csv(base_path + 'cleantrainreview.csv',index_col=0)\n",
    "reviewtraining = dftraining['review']\n",
    "ratingtraining = dftraining['rating']\n",
    "\n",
    "#load test data\n",
    "dftest = pd.read_csv(base_path +'cleantestreview.csv',index_col=0)\n",
    "reviewtest = dftest['review']\n",
    "ratingtest = dftest['rating']\n",
    "Xfortest = reviewtest[pd.notnull(reviewtest)]\n",
    "Yfortest = ratingtest[pd.notnull(reviewtest)]"
   ]
  },
  {
   "cell_type": "code",
   "execution_count": 6,
   "metadata": {
    "colab": {
     "base_uri": "https://localhost:8080/",
     "height": 195
    },
    "colab_type": "code",
    "collapsed": false,
    "id": "Yh1okbXxHJJi",
    "outputId": "16283da0-6f10-48c1-fd31-9c87acb5e7ef"
   },
   "outputs": [
    {
     "data": {
      "text/html": [
       "<div>\n",
       "<style scoped>\n",
       "    .dataframe tbody tr th:only-of-type {\n",
       "        vertical-align: middle;\n",
       "    }\n",
       "\n",
       "    .dataframe tbody tr th {\n",
       "        vertical-align: top;\n",
       "    }\n",
       "\n",
       "    .dataframe thead th {\n",
       "        text-align: right;\n",
       "    }\n",
       "</style>\n",
       "<table border=\"1\" class=\"dataframe\">\n",
       "  <thead>\n",
       "    <tr style=\"text-align: right;\">\n",
       "      <th></th>\n",
       "      <th>review</th>\n",
       "      <th>rating</th>\n",
       "    </tr>\n",
       "  </thead>\n",
       "  <tbody>\n",
       "    <tr>\n",
       "      <th>0</th>\n",
       "      <td>side effect take combination bystolic mg fish oil</td>\n",
       "      <td>9.0</td>\n",
       "    </tr>\n",
       "    <tr>\n",
       "      <th>1</th>\n",
       "      <td>son halfway fourth week intuniv became concern...</td>\n",
       "      <td>8.0</td>\n",
       "    </tr>\n",
       "    <tr>\n",
       "      <th>2</th>\n",
       "      <td>used take another oral contraceptive pill cycl...</td>\n",
       "      <td>5.0</td>\n",
       "    </tr>\n",
       "    <tr>\n",
       "      <th>3</th>\n",
       "      <td>first time using form birth control glad went ...</td>\n",
       "      <td>8.0</td>\n",
       "    </tr>\n",
       "    <tr>\n",
       "      <th>4</th>\n",
       "      <td>suboxone completely turned life around feel he...</td>\n",
       "      <td>9.0</td>\n",
       "    </tr>\n",
       "  </tbody>\n",
       "</table>\n",
       "</div>"
      ],
      "text/plain": [
       "                                              review  rating\n",
       "0  side effect take combination bystolic mg fish oil     9.0\n",
       "1  son halfway fourth week intuniv became concern...     8.0\n",
       "2  used take another oral contraceptive pill cycl...     5.0\n",
       "3  first time using form birth control glad went ...     8.0\n",
       "4  suboxone completely turned life around feel he...     9.0"
      ]
     },
     "execution_count": 6,
     "metadata": {
      "tags": []
     },
     "output_type": "execute_result"
    }
   ],
   "source": [
    "dftraining.head()"
   ]
  },
  {
   "cell_type": "code",
   "execution_count": 0,
   "metadata": {
    "colab": {},
    "colab_type": "code",
    "collapsed": true,
    "id": "PTY4vtnGHMqO"
   },
   "outputs": [],
   "source": [
    "#Split data review dan ratingnya\n",
    "X = reviewtraining[pd.notnull(reviewtraining)]\n",
    "Y = ratingtraining[pd.notnull(reviewtraining)]\n",
    "\n",
    "from sklearn.model_selection import train_test_split\n",
    "X_train, X_test, y_train, y_test = train_test_split(X,Y, test_size=0.1, random_state=8)"
   ]
  },
  {
   "cell_type": "markdown",
   "metadata": {
    "colab_type": "text",
    "id": "dmGpmQ64ImWd"
   },
   "source": [
    "### Feature Extraction"
   ]
  },
  {
   "cell_type": "code",
   "execution_count": 0,
   "metadata": {
    "colab": {},
    "colab_type": "code",
    "collapsed": true,
    "id": "RTVHkZHOI4_0"
   },
   "outputs": [],
   "source": [
    "from sklearn.feature_extraction.text import CountVectorizer\n",
    "from sklearn.feature_extraction.text import TfidfTransformer\n",
    "from sklearn.feature_extraction.text import TfidfVectorizer"
   ]
  },
  {
   "cell_type": "code",
   "execution_count": 12,
   "metadata": {
    "colab": {
     "base_uri": "https://localhost:8080/",
     "height": 34
    },
    "colab_type": "code",
    "collapsed": false,
    "id": "brM4O-yDHP8W",
    "outputId": "e757188d-b312-45bb-a3d8-c70baf31ca10"
   },
   "outputs": [
    {
     "name": "stdout",
     "output_type": "stream",
     "text": [
      "Number of features:  44272\n"
     ]
    }
   ],
   "source": [
    "#Vectorize\n",
    "vectorizer = CountVectorizer()\n",
    "X_training_vector = vectorizer.fit_transform(X_train)\n",
    "print(\"Number of features:  %d\" % len(vectorizer.vocabulary_))\n",
    "X_test_vector = vectorizer.transform(X_test)"
   ]
  },
  {
   "cell_type": "code",
   "execution_count": 0,
   "metadata": {
    "colab": {},
    "colab_type": "code",
    "collapsed": true,
    "id": "x-ChxHANIpkn"
   },
   "outputs": [],
   "source": [
    "#Feature Extraction using TFIDF\n",
    "tfidftransformer = TfidfTransformer()\n",
    "X_train_tfidf = tfidftransformer.fit_transform(X_training_vector)"
   ]
  },
  {
   "cell_type": "markdown",
   "metadata": {
    "colab_type": "text",
    "id": "BHVIxQnqJBm1"
   },
   "source": [
    "## Prediction Model"
   ]
  },
  {
   "cell_type": "markdown",
   "metadata": {
    "colab_type": "text",
    "id": "3W8OHVH5Vo6M"
   },
   "source": [
    "### SVM"
   ]
  },
  {
   "cell_type": "code",
   "execution_count": 36,
   "metadata": {
    "colab": {
     "base_uri": "https://localhost:8080/",
     "height": 52
    },
    "colab_type": "code",
    "collapsed": false,
    "id": "9n672b2WJDJ-",
    "outputId": "fc1bccf1-1208-4429-c9ef-00b1d9bdb65e"
   },
   "outputs": [
    {
     "name": "stdout",
     "output_type": "stream",
     "text": [
      "Metode SVM\n",
      "Accuracy: 0.7258524488530688\n"
     ]
    }
   ],
   "source": [
    "#SVM \n",
    "\n",
    "from sklearn.linear_model import SGDClassifier\n",
    "from sklearn.metrics import accuracy_score\n",
    "from sklearn.pipeline import Pipeline\n",
    "text_clf_svm = Pipeline([('vect', CountVectorizer(ngram_range=(1,3))),\n",
    "                        ('tfidf', TfidfTransformer(norm=None, smooth_idf=True, sublinear_tf=False,\n",
    "                        use_idf=True)),\n",
    "                        ('clf-svm', SGDClassifier(loss='hinge',alpha=1e-3,random_state=0))])\n",
    "\n",
    "text_clf_svm = text_clf_svm.fit(X_train.astype(str), y_train)\n",
    "predictionsvm = text_clf_svm.predict(X_test.astype(str))\n",
    "accuracy = accuracy_score(y_test, predictionsvm)\n",
    "print ('Metode SVM')\n",
    "print ('Accuracy:', accuracy)"
   ]
  },
  {
   "cell_type": "code",
   "execution_count": 37,
   "metadata": {
    "colab": {
     "base_uri": "https://localhost:8080/",
     "height": 52
    },
    "colab_type": "code",
    "collapsed": false,
    "id": "5sfyPG5YVntV",
    "outputId": "4ad7f1bc-4bd0-4fda-ad53-ddfdd2fa5128"
   },
   "outputs": [
    {
     "name": "stdout",
     "output_type": "stream",
     "text": [
      "Metode SVM\n",
      "Accuracy validation: 0.7258524488530688\n"
     ]
    }
   ],
   "source": [
    "accuracy = accuracy_score(y_test, predictionsvm)\n",
    "print ('Metode SVM')\n",
    "print ('Accuracy validation:', accuracy)"
   ]
  },
  {
   "cell_type": "code",
   "execution_count": 0,
   "metadata": {
    "colab": {},
    "colab_type": "code",
    "collapsed": true,
    "id": "nczOS0UgVvgd"
   },
   "outputs": [],
   "source": [
    "dftestsvm = dftest"
   ]
  },
  {
   "cell_type": "code",
   "execution_count": 0,
   "metadata": {
    "colab": {},
    "colab_type": "code",
    "collapsed": true,
    "id": "fV9KmD-kWPlm"
   },
   "outputs": [],
   "source": [
    "svmpred = text_clf_svm.predict(reviewtest.astype(str))"
   ]
  },
  {
   "cell_type": "code",
   "execution_count": 53,
   "metadata": {
    "colab": {
     "base_uri": "https://localhost:8080/",
     "height": 195
    },
    "colab_type": "code",
    "collapsed": false,
    "id": "I8NA7uuJWVFQ",
    "outputId": "961d13ad-3c58-4d29-c8f4-ad7fddfcadab"
   },
   "outputs": [
    {
     "data": {
      "text/html": [
       "<div>\n",
       "<style scoped>\n",
       "    .dataframe tbody tr th:only-of-type {\n",
       "        vertical-align: middle;\n",
       "    }\n",
       "\n",
       "    .dataframe tbody tr th {\n",
       "        vertical-align: top;\n",
       "    }\n",
       "\n",
       "    .dataframe thead th {\n",
       "        text-align: right;\n",
       "    }\n",
       "</style>\n",
       "<table border=\"1\" class=\"dataframe\">\n",
       "  <thead>\n",
       "    <tr style=\"text-align: right;\">\n",
       "      <th></th>\n",
       "      <th>review</th>\n",
       "      <th>rating</th>\n",
       "      <th>predicted rating</th>\n",
       "    </tr>\n",
       "  </thead>\n",
       "  <tbody>\n",
       "    <tr>\n",
       "      <th>0</th>\n",
       "      <td>tried antidepressants years citalopram fluoxet...</td>\n",
       "      <td>10.0</td>\n",
       "      <td>9.0</td>\n",
       "    </tr>\n",
       "    <tr>\n",
       "      <th>1</th>\n",
       "      <td>son crohn disease done well asacol complaints ...</td>\n",
       "      <td>8.0</td>\n",
       "      <td>8.0</td>\n",
       "    </tr>\n",
       "    <tr>\n",
       "      <th>2</th>\n",
       "      <td>quick reduction symptoms</td>\n",
       "      <td>9.0</td>\n",
       "      <td>9.0</td>\n",
       "    </tr>\n",
       "    <tr>\n",
       "      <th>3</th>\n",
       "      <td>contrave combines drugs used alcohol smoking o...</td>\n",
       "      <td>9.0</td>\n",
       "      <td>9.0</td>\n",
       "    </tr>\n",
       "    <tr>\n",
       "      <th>4</th>\n",
       "      <td>birth control one cycle reading reviews type s...</td>\n",
       "      <td>9.0</td>\n",
       "      <td>9.0</td>\n",
       "    </tr>\n",
       "  </tbody>\n",
       "</table>\n",
       "</div>"
      ],
      "text/plain": [
       "                                              review  rating  predicted rating\n",
       "0  tried antidepressants years citalopram fluoxet...    10.0               9.0\n",
       "1  son crohn disease done well asacol complaints ...     8.0               8.0\n",
       "2                           quick reduction symptoms     9.0               9.0\n",
       "3  contrave combines drugs used alcohol smoking o...     9.0               9.0\n",
       "4  birth control one cycle reading reviews type s...     9.0               9.0"
      ]
     },
     "execution_count": 53,
     "metadata": {
      "tags": []
     },
     "output_type": "execute_result"
    }
   ],
   "source": [
    "dftestsvm['predicted rating'] =svmpred\n",
    "dftestsvm.head()"
   ]
  },
  {
   "cell_type": "code",
   "execution_count": 54,
   "metadata": {
    "colab": {
     "base_uri": "https://localhost:8080/",
     "height": 316
    },
    "colab_type": "code",
    "collapsed": false,
    "id": "G5obLW4zWZOb",
    "outputId": "71a9bea6-2178-48de-901a-453dec049bf2"
   },
   "outputs": [
    {
     "name": "stdout",
     "output_type": "stream",
     "text": [
      "              precision    recall  f1-score   support\n",
      "\n",
      "         1.0       0.70      0.86      0.77      7299\n",
      "         2.0       0.74      0.60      0.67      2334\n",
      "         3.0       0.68      0.59      0.63      2205\n",
      "         4.0       0.58      0.59      0.58      1659\n",
      "         5.0       0.71      0.57      0.64      2710\n",
      "         6.0       0.61      0.56      0.58      2119\n",
      "         7.0       0.75      0.56      0.64      3091\n",
      "         8.0       0.75      0.59      0.66      6156\n",
      "         9.0       0.76      0.61      0.68      9177\n",
      "        10.0       0.74      0.89      0.81     17016\n",
      "\n",
      "    accuracy                           0.72     53766\n",
      "   macro avg       0.70      0.64      0.67     53766\n",
      "weighted avg       0.72      0.72      0.72     53766\n",
      "\n"
     ]
    }
   ],
   "source": [
    "from sklearn import metrics\n",
    "print(metrics.classification_report(ratingtest, svmpred))"
   ]
  },
  {
   "cell_type": "code",
   "execution_count": 0,
   "metadata": {
    "colab": {},
    "colab_type": "code",
    "collapsed": true,
    "id": "L4rQM3sgWgPv"
   },
   "outputs": [],
   "source": [
    "cmsvm = metrics.confusion_matrix(ratingtest, svmpred)"
   ]
  },
  {
   "cell_type": "code",
   "execution_count": 63,
   "metadata": {
    "colab": {
     "base_uri": "https://localhost:8080/",
     "height": 289
    },
    "colab_type": "code",
    "collapsed": false,
    "id": "hBKV7Od7XSod",
    "outputId": "484f8d77-cbf9-4690-dd55-0822a9f9f53f"
   },
   "outputs": [
    {
     "data": {
      "image/png": "[encoded data removed]",
      "text/plain": [
       "<Figure size 432x288 with 2 Axes>"
      ]
     },
     "metadata": {
      "tags": []
     },
     "output_type": "display_data"
    }
   ],
   "source": [
    "fig = plt.figure()\n",
    "ax = fig.add_subplot(111)\n",
    "cax = ax.matshow(cmsvm)\n",
    "plt.title('Confusion matrix SVM')\n",
    "fig.colorbar(cax)\n",
    "\n",
    "plt.xlabel('Predicted')\n",
    "plt.ylabel('True')\n",
    "plt.show()"
   ]
  },
  {
   "cell_type": "code",
   "execution_count": 0,
   "metadata": {
    "colab": {},
    "colab_type": "code",
    "collapsed": true,
    "id": "wgTy2j65WnC0"
   },
   "outputs": [],
   "source": [
    "accuracy_testsvm = accuracy_score(ratingtest, svmpred)"
   ]
  },
  {
   "cell_type": "code",
   "execution_count": 58,
   "metadata": {
    "colab": {
     "base_uri": "https://localhost:8080/",
     "height": 34
    },
    "colab_type": "code",
    "collapsed": false,
    "id": "xYObit40Wqxu",
    "outputId": "f7712225-99b4-4fbd-aac2-91e89f42bd88"
   },
   "outputs": [
    {
     "name": "stdout",
     "output_type": "stream",
     "text": [
      "Akurasi testing svm: 0.7224826098277722\n"
     ]
    }
   ],
   "source": [
    "print('Akurasi testing svm:',accuracy_testsvm)"
   ]
  },
  {
   "cell_type": "code",
   "execution_count": 0,
   "metadata": {
    "colab": {},
    "colab_type": "code",
    "collapsed": true,
    "id": "JyJd3gqhWts0"
   },
   "outputs": [],
   "source": [
    "dftestsvm.to_csv(base_path + 'dftestsvm.csv')"
   ]
  },
  {
   "cell_type": "markdown",
   "metadata": {
    "colab_type": "text",
    "id": "6ExqQxFwVqUF"
   },
   "source": [
    "### Multinomial Naive Bayes"
   ]
  },
  {
   "cell_type": "code",
   "execution_count": 16,
   "metadata": {
    "colab": {
     "base_uri": "https://localhost:8080/",
     "height": 52
    },
    "colab_type": "code",
    "collapsed": false,
    "id": "qg9KWBYCQkTw",
    "outputId": "380adb93-f438-48f6-93c6-6ae92736d121"
   },
   "outputs": [
    {
     "name": "stdout",
     "output_type": "stream",
     "text": [
      "Metode Multinomial NB\n",
      "Accuracy: 0.7048357098574085\n"
     ]
    }
   ],
   "source": [
    "#Multinomial NB\n",
    "from sklearn.naive_bayes import MultinomialNB\n",
    "from sklearn.metrics import accuracy_score\n",
    "from sklearn.pipeline import Pipeline\n",
    "text_clf_nb = Pipeline([('vect', CountVectorizer(ngram_range=(1,3))),\n",
    "                        ('tfidf', TfidfTransformer(norm=None, smooth_idf=True, sublinear_tf=False,\n",
    "                        use_idf=True)),\n",
    "                        ('clf-svm', MultinomialNB())])\n",
    "\n",
    "text_clf_nb = text_clf_nb.fit(X_train.astype(str), y_train)\n",
    "predictionnb = text_clf_nb.predict(X_test.astype(str))"
   ]
  },
  {
   "cell_type": "code",
   "execution_count": 30,
   "metadata": {
    "colab": {
     "base_uri": "https://localhost:8080/",
     "height": 52
    },
    "colab_type": "code",
    "collapsed": false,
    "id": "U2W0Yo6-UfdU",
    "outputId": "ac32d7af-2cd3-4706-dfc8-57ddc643e2d7"
   },
   "outputs": [
    {
     "name": "stdout",
     "output_type": "stream",
     "text": [
      "Metode Multinomial NB\n",
      "Accuracy validasi: 0.7048357098574085\n"
     ]
    }
   ],
   "source": [
    "accuracy = accuracy_score(y_test, predictionnb)\n",
    "print ('Metode Multinomial NB')\n",
    "print ('Accuracy validasi:', accuracy)"
   ]
  },
  {
   "cell_type": "code",
   "execution_count": 0,
   "metadata": {
    "colab": {},
    "colab_type": "code",
    "collapsed": true,
    "id": "CN0S0u7dQ8uB"
   },
   "outputs": [],
   "source": [
    "dftestnb = dftest"
   ]
  },
  {
   "cell_type": "code",
   "execution_count": 0,
   "metadata": {
    "colab": {},
    "colab_type": "code",
    "collapsed": true,
    "id": "Gc8HwtxhRwki"
   },
   "outputs": [],
   "source": [
    "nbpred = text_clf_nb.predict(reviewtest.astype(str))"
   ]
  },
  {
   "cell_type": "code",
   "execution_count": 45,
   "metadata": {
    "colab": {
     "base_uri": "https://localhost:8080/",
     "height": 195
    },
    "colab_type": "code",
    "collapsed": false,
    "id": "lc_PeiFySKcZ",
    "outputId": "6823e2cc-0320-44f6-d5c8-1e52adc73f03"
   },
   "outputs": [
    {
     "data": {
      "text/html": [
       "<div>\n",
       "<style scoped>\n",
       "    .dataframe tbody tr th:only-of-type {\n",
       "        vertical-align: middle;\n",
       "    }\n",
       "\n",
       "    .dataframe tbody tr th {\n",
       "        vertical-align: top;\n",
       "    }\n",
       "\n",
       "    .dataframe thead th {\n",
       "        text-align: right;\n",
       "    }\n",
       "</style>\n",
       "<table border=\"1\" class=\"dataframe\">\n",
       "  <thead>\n",
       "    <tr style=\"text-align: right;\">\n",
       "      <th></th>\n",
       "      <th>review</th>\n",
       "      <th>rating</th>\n",
       "      <th>predicted rating</th>\n",
       "    </tr>\n",
       "  </thead>\n",
       "  <tbody>\n",
       "    <tr>\n",
       "      <th>0</th>\n",
       "      <td>tried antidepressants years citalopram fluoxet...</td>\n",
       "      <td>10.0</td>\n",
       "      <td>9.0</td>\n",
       "    </tr>\n",
       "    <tr>\n",
       "      <th>1</th>\n",
       "      <td>son crohn disease done well asacol complaints ...</td>\n",
       "      <td>8.0</td>\n",
       "      <td>8.0</td>\n",
       "    </tr>\n",
       "    <tr>\n",
       "      <th>2</th>\n",
       "      <td>quick reduction symptoms</td>\n",
       "      <td>9.0</td>\n",
       "      <td>9.0</td>\n",
       "    </tr>\n",
       "    <tr>\n",
       "      <th>3</th>\n",
       "      <td>contrave combines drugs used alcohol smoking o...</td>\n",
       "      <td>9.0</td>\n",
       "      <td>9.0</td>\n",
       "    </tr>\n",
       "    <tr>\n",
       "      <th>4</th>\n",
       "      <td>birth control one cycle reading reviews type s...</td>\n",
       "      <td>9.0</td>\n",
       "      <td>9.0</td>\n",
       "    </tr>\n",
       "  </tbody>\n",
       "</table>\n",
       "</div>"
      ],
      "text/plain": [
       "                                              review  rating  predicted rating\n",
       "0  tried antidepressants years citalopram fluoxet...    10.0               9.0\n",
       "1  son crohn disease done well asacol complaints ...     8.0               8.0\n",
       "2                           quick reduction symptoms     9.0               9.0\n",
       "3  contrave combines drugs used alcohol smoking o...     9.0               9.0\n",
       "4  birth control one cycle reading reviews type s...     9.0               9.0"
      ]
     },
     "execution_count": 45,
     "metadata": {
      "tags": []
     },
     "output_type": "execute_result"
    }
   ],
   "source": [
    "dftestnb['predicted rating'] =nbpred\n",
    "dftestnb.head()"
   ]
  },
  {
   "cell_type": "code",
   "execution_count": 46,
   "metadata": {
    "colab": {
     "base_uri": "https://localhost:8080/",
     "height": 316
    },
    "colab_type": "code",
    "collapsed": false,
    "id": "4T588qM6ScCB",
    "outputId": "f4680bc0-e7d2-4a02-eabf-cca1119a4d75"
   },
   "outputs": [
    {
     "name": "stdout",
     "output_type": "stream",
     "text": [
      "              precision    recall  f1-score   support\n",
      "\n",
      "         1.0       0.73      0.79      0.76      7299\n",
      "         2.0       0.77      0.60      0.67      2334\n",
      "         3.0       0.77      0.58      0.66      2205\n",
      "         4.0       0.83      0.57      0.68      1659\n",
      "         5.0       0.72      0.57      0.63      2710\n",
      "         6.0       0.80      0.53      0.64      2119\n",
      "         7.0       0.71      0.56      0.63      3091\n",
      "         8.0       0.61      0.62      0.61      6156\n",
      "         9.0       0.62      0.66      0.64      9177\n",
      "        10.0       0.73      0.83      0.78     17016\n",
      "\n",
      "    accuracy                           0.70     53766\n",
      "   macro avg       0.73      0.63      0.67     53766\n",
      "weighted avg       0.71      0.70      0.70     53766\n",
      "\n"
     ]
    }
   ],
   "source": [
    "from sklearn import metrics\n",
    "print(metrics.classification_report(ratingtest, nbpred))"
   ]
  },
  {
   "cell_type": "code",
   "execution_count": 0,
   "metadata": {
    "colab": {},
    "colab_type": "code",
    "collapsed": true,
    "id": "V7XRed-6StMB"
   },
   "outputs": [],
   "source": [
    "cmnb = metrics.confusion_matrix(ratingtest, nbpred)"
   ]
  },
  {
   "cell_type": "code",
   "execution_count": 72,
   "metadata": {
    "colab": {
     "base_uri": "https://localhost:8080/",
     "height": 289
    },
    "colab_type": "code",
    "collapsed": false,
    "id": "4rKnqW7PXl4C",
    "outputId": "c454322b-5eac-46f8-96b6-3c3d00e62a46"
   },
   "outputs": [
    {
     "data": {
      "image/png": "[encoded data removed]",
      "text/plain": [
       "<Figure size 432x288 with 2 Axes>"
      ]
     },
     "metadata": {
      "tags": []
     },
     "output_type": "display_data"
    }
   ],
   "source": [
    "fig = plt.figure()\n",
    "ax = fig.add_subplot(111)\n",
    "cax = ax.matshow(cmnb)\n",
    "plt.title('Confusion matrix NB')\n",
    "fig.colorbar(cax)\n",
    "\n",
    "plt.xlabel('Predicted')\n",
    "plt.ylabel('True')\n",
    "plt.show()"
   ]
  },
  {
   "cell_type": "code",
   "execution_count": 0,
   "metadata": {
    "colab": {},
    "colab_type": "code",
    "collapsed": true,
    "id": "W7zEh4UCUV3j"
   },
   "outputs": [],
   "source": [
    "accuracy_test = accuracy_score(ratingtest, nbpred)"
   ]
  },
  {
   "cell_type": "code",
   "execution_count": 49,
   "metadata": {
    "colab": {
     "base_uri": "https://localhost:8080/",
     "height": 34
    },
    "colab_type": "code",
    "collapsed": false,
    "id": "x0mdtpnOUpXa",
    "outputId": "f08cbf3b-e31e-4e7a-fbb4-f1e7c66e380f"
   },
   "outputs": [
    {
     "name": "stdout",
     "output_type": "stream",
     "text": [
      "Akurasi testing: 0.7016887996131385\n"
     ]
    }
   ],
   "source": [
    "print('Akurasi testing:',accuracy_test)"
   ]
  },
  {
   "cell_type": "code",
   "execution_count": 0,
   "metadata": {
    "colab": {},
    "colab_type": "code",
    "collapsed": true,
    "id": "7QJQSSKwUr7c"
   },
   "outputs": [],
   "source": [
    "dftestnb.to_csv(base_path + 'dftestnb.csv')"
   ]
  },
  {
   "cell_type": "code",
   "execution_count": 0,
   "metadata": {
    "colab": {},
    "colab_type": "code",
    "collapsed": true,
    "id": "xzqHMvevWL-e"
   },
   "outputs": [],
   "source": []
  }
 ],
 "metadata": {
  "colab": {
   "collapsed_sections": [],
   "name": "Final Project Pengenalan Pola - Drug Review.ipynb",
   "provenance": [],
   "version": "0.3.2"
  },
  "kernelspec": {
   "display_name": "Python 3",
   "language": "python",
   "name": "python3"
  },
  "language_info": {
   "codemirror_mode": {
    "name": "ipython",
    "version": 3
   },
   "file_extension": ".py",
   "mimetype": "text/x-python",
   "name": "python",
   "nbconvert_exporter": "python",
   "pygments_lexer": "ipython3",
   "version": "3.6.7"
  }
 },
 "nbformat": 4,
 "nbformat_minor": 0
}
